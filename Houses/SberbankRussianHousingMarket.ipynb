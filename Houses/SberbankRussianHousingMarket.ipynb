{
 "cells": [
  {
   "cell_type": "code",
   "execution_count": 1,
   "metadata": {},
   "outputs": [],
   "source": [
    "import pandas as pd\n",
    "import numpy as np"
   ]
  },
  {
   "cell_type": "markdown",
   "metadata": {},
   "source": [
    "## Import data and make first transformations"
   ]
  },
  {
   "cell_type": "code",
   "execution_count": 2,
   "metadata": {},
   "outputs": [
    {
     "data": {
      "text/plain": [
       "((30471, 292), (7662, 291))"
      ]
     },
     "execution_count": 2,
     "metadata": {},
     "output_type": "execute_result"
    }
   ],
   "source": [
    "train_path = '/Users/user/Desktop/all/train.csv'\n",
    "test_path = '/Users/user/Desktop/all/test.csv'\n",
    "macro_path = '/Users/user/Desktop/all/macro.csv'\n",
    "\n",
    "\n",
    "train_data = pd.read_csv(train_path)\n",
    "test_data = pd.read_csv(test_path)\n",
    "macro_data = pd.read_csv(macro_path)\n",
    "\n",
    "train_data.shape, test_data.shape"
   ]
  },
  {
   "cell_type": "code",
   "execution_count": 164,
   "metadata": {},
   "outputs": [],
   "source": [
    "def get_subs(train_data, test_data):\n",
    "    # merge \n",
    "    total_data = pd.concat([train_data, test_data], axis = 0)\n",
    "    areas = pd.get_dummies(pd.Series(total_data['sub_area']))\n",
    "    total_data = pd.concat([total_data, areas], axis=1)\n",
    "\n",
    "    # split back\n",
    "    train_subs = total_data.iloc[0:len(train_data), -146:]\n",
    "    test_subs = total_data.iloc[len(train_data):, -146:]\n",
    "    \n",
    "    # change train and test\n",
    "    short_train = pd.concat([train_data.iloc[:, 1:13], train_data['price_doc'], train_subs], axis=1)\n",
    "    short_train = short_train.drop(['sub_area'], axis=1)\n",
    "\n",
    "    short_test = pd.concat([test_data.iloc[:, 1:13], test_subs], axis=1)\n",
    "    short_test = short_test.drop(['sub_area'], axis=1)\n",
    "\n",
    "    return short_train, short_test\n",
    "\n",
    "type_col = pd.Series(pd.concat([train_data, test_data], axis = 0, sort=False)['product_type'])\n",
    "\n",
    "def scale_time(X):\n",
    "    X['timestamp'] = pd.DatetimeIndex(X['timestamp']).astype(np.int64) // 1000000\n",
    "    time_unscaled = X['timestamp']\n",
    "    min_time = 1369094400000.0\n",
    "    max_time = 1435622400000.0\n",
    "    X['timestamp'] = 100*(time_unscaled - min_time) // (max_time - min_time)\n",
    "    return X\n",
    "\n",
    "def categorize_type(X):\n",
    "    typezz = pd.DataFrame(type_col.unique()).to_dict()[0]\n",
    "    typez = dict (zip(typezz.values(), typezz.keys()))\n",
    "    X['product_type'].replace(to_replace=typez, inplace=True)\n",
    "    return X"
   ]
  },
  {
   "cell_type": "code",
   "execution_count": 4,
   "metadata": {
    "scrolled": false
   },
   "outputs": [
    {
     "name": "stderr",
     "output_type": "stream",
     "text": [
      "/Users/user/miniconda3/lib/python3.6/site-packages/ipykernel_launcher.py:3: FutureWarning: Sorting because non-concatenation axis is not aligned. A future version\n",
      "of pandas will change to not sort by default.\n",
      "\n",
      "To accept the future behavior, pass 'sort=False'.\n",
      "\n",
      "To retain the current behavior and silence the warning, pass 'sort=True'.\n",
      "\n",
      "  This is separate from the ipykernel package so we can avoid doing imports until\n"
     ]
    }
   ],
   "source": [
    "train, test = get_subs(train_data, test_data)\n",
    "\n",
    "train = categorize_type(scale_time(train))\n",
    "test = categorize_type(scale_time(test))"
   ]
  },
  {
   "cell_type": "code",
   "execution_count": 5,
   "metadata": {},
   "outputs": [
    {
     "data": {
      "text/plain": [
       "((30471, 158), (7662, 157))"
      ]
     },
     "execution_count": 5,
     "metadata": {},
     "output_type": "execute_result"
    }
   ],
   "source": [
    "train.shape, test.shape"
   ]
  },
  {
   "cell_type": "code",
   "execution_count": 178,
   "metadata": {},
   "outputs": [],
   "source": [
    "# see where in data we have Nans\n",
    "nans = {x: sum(train[x].isnull()) for x in train.columns}\n",
    "# print(nans)"
   ]
  },
  {
   "cell_type": "markdown",
   "metadata": {},
   "source": [
    "## Define transformers"
   ]
  },
  {
   "cell_type": "code",
   "execution_count": 165,
   "metadata": {},
   "outputs": [],
   "source": [
    "from sklearn.base import BaseEstimator, TransformerMixin\n",
    "from sklearn.preprocessing import Imputer"
   ]
  },
  {
   "cell_type": "code",
   "execution_count": 166,
   "metadata": {},
   "outputs": [],
   "source": [
    "imp = Imputer(missing_values='NaN', strategy='mean', axis=0)"
   ]
  },
  {
   "cell_type": "code",
   "execution_count": 144,
   "metadata": {},
   "outputs": [],
   "source": [
    "from sklearn import linear_model\n",
    "\n",
    "class LinReg(linear_model.LinearRegression, BaseEstimator, TransformerMixin):\n",
    "    def __init__(self, fit_intercept=True, normalize=False, copy_X=True,\n",
    "                 n_jobs=1):\n",
    "        self.fit_intercept = fit_intercept\n",
    "        self.normalize = normalize\n",
    "        self.copy_X = copy_X\n",
    "        self.n_jobs = n_jobs\n",
    "    \n",
    "    def transform(self, X, y=None):\n",
    "        t = self.predict(X)\n",
    "        return t[:, np.newaxis] #.reshape((1,-1))"
   ]
  },
  {
   "cell_type": "code",
   "execution_count": 130,
   "metadata": {},
   "outputs": [],
   "source": [
    "import xgboost as xgb\n",
    "\n",
    "xgb_model = xgb.XGBRegressor(n_estimators=100, learning_rate=0.08, gamma=0, subsample=0.75,\n",
    "                           colsample_bytree=1, max_depth=7)"
   ]
  },
  {
   "cell_type": "code",
   "execution_count": 162,
   "metadata": {},
   "outputs": [],
   "source": [
    "from sklearn.feature_selection import SelectKBest\n",
    "\n",
    "selection = SelectKBest(k=157)"
   ]
  },
  {
   "cell_type": "markdown",
   "metadata": {},
   "source": [
    "## Stack models in a Pipeline"
   ]
  },
  {
   "cell_type": "code",
   "execution_count": 163,
   "metadata": {},
   "outputs": [],
   "source": [
    "from sklearn.pipeline import Pipeline\n",
    "from sklearn.pipeline import FeatureUnion\n",
    "\n",
    "\n",
    "union = FeatureUnion([('selection', selection),\n",
    "                    ('linear_model', LinReg())])\n",
    "\n",
    "estimators = [('clearing', imp),\n",
    "              ('union', union),\n",
    "              ('xgboost', xgb_model)]\n",
    "\n",
    "pipeline = Pipeline(estimators)"
   ]
  },
  {
   "cell_type": "code",
   "execution_count": 140,
   "metadata": {},
   "outputs": [],
   "source": [
    "target = train['price_doc']\n",
    "dataset  = train.drop(['price_doc'], axis=1)"
   ]
  },
  {
   "cell_type": "code",
   "execution_count": 141,
   "metadata": {
    "scrolled": false
   },
   "outputs": [
    {
     "name": "stderr",
     "output_type": "stream",
     "text": [
      "/Users/user/miniconda3/lib/python3.6/site-packages/sklearn/feature_selection/univariate_selection.py:114: RuntimeWarning: divide by zero encountered in true_divide\n",
      "  f = msb / msw\n"
     ]
    },
    {
     "data": {
      "text/plain": [
       "Pipeline(memory=None,\n",
       "     steps=[('clearing', Imputer(axis=0, copy=True, missing_values='NaN', strategy='mean', verbose=0)), ('union', FeatureUnion(n_jobs=1,\n",
       "       transformer_list=[('selection', SelectKBest(k=157, score_func=<function f_classif at 0x11b8f8400>)), ('linear_model', LinReg(copy_X=True, fit_intercept=True, n_j...     reg_alpha=0, reg_lambda=1, scale_pos_weight=1, seed=None,\n",
       "       silent=True, subsample=0.75))])"
      ]
     },
     "execution_count": 141,
     "metadata": {},
     "output_type": "execute_result"
    }
   ],
   "source": [
    "pipeline.fit(dataset, target)"
   ]
  },
  {
   "cell_type": "code",
   "execution_count": 142,
   "metadata": {},
   "outputs": [],
   "source": [
    "a = pipeline.predict(test)"
   ]
  },
  {
   "cell_type": "code",
   "execution_count": 147,
   "metadata": {},
   "outputs": [],
   "source": [
    "tr = pipeline.predict(train.drop(['price_doc'], axis=1))"
   ]
  },
  {
   "cell_type": "code",
   "execution_count": 148,
   "metadata": {},
   "outputs": [
    {
     "data": {
      "text/plain": [
       "0.203579400529207"
      ]
     },
     "execution_count": 148,
     "metadata": {},
     "output_type": "execute_result"
    }
   ],
   "source": [
    "from sklearn import metrics\n",
    "\n",
    "metrics.mean_squared_log_error(tr, train['price_doc'])\n",
    "# 0.203579400529207"
   ]
  },
  {
   "cell_type": "code",
   "execution_count": null,
   "metadata": {
    "scrolled": false
   },
   "outputs": [],
   "source": [
    "import matplotlib.pyplot as plt\n",
    "from sklearn.model_selection import cross_val_predict\n",
    "\n",
    "\n",
    "predicted = cross_val_predict(estimator=pipeline, X=dataset, y=target, cv=10)"
   ]
  },
  {
   "cell_type": "code",
   "execution_count": 153,
   "metadata": {},
   "outputs": [
    {
     "data": {
      "image/png": "[encoded data removed]",
      "text/plain": [
       "<Figure size 432x288 with 1 Axes>"
      ]
     },
     "metadata": {},
     "output_type": "display_data"
    }
   ],
   "source": [
    "fig, ax = plt.subplots()\n",
    "ax.scatter(target, predicted, edgecolors=(0, 0, 0))\n",
    "ax.plot([target.min(), target.max()], [target.min(), target.max()], 'k--', lw=4)\n",
    "ax.set_xlabel('Measured')\n",
    "ax.set_ylabel('Predicted')\n",
    "plt.show()"
   ]
  },
  {
   "cell_type": "code",
   "execution_count": 152,
   "metadata": {},
   "outputs": [
    {
     "data": {
      "text/plain": [
       "0.227713959661354"
      ]
     },
     "execution_count": 152,
     "metadata": {},
     "output_type": "execute_result"
    }
   ],
   "source": [
    "metrics.mean_squared_log_error(predicted, train['price_doc'])\n",
    "# 0.227713959661354"
   ]
  },
  {
   "cell_type": "markdown",
   "metadata": {},
   "source": [
    "## Cross validation and Grid search"
   ]
  },
  {
   "cell_type": "code",
   "execution_count": 170,
   "metadata": {
    "scrolled": true
   },
   "outputs": [
    {
     "data": {
      "text/plain": [
       "dict_keys(['memory', 'steps', 'clearing', 'union', 'xgboost', 'clearing__axis', 'clearing__copy', 'clearing__missing_values', 'clearing__strategy', 'clearing__verbose', 'union__n_jobs', 'union__transformer_list', 'union__transformer_weights', 'union__selection', 'union__linear_model', 'union__selection__k', 'union__selection__score_func', 'union__linear_model__copy_X', 'union__linear_model__fit_intercept', 'union__linear_model__n_jobs', 'union__linear_model__normalize', 'xgboost__base_score', 'xgboost__booster', 'xgboost__colsample_bylevel', 'xgboost__colsample_bytree', 'xgboost__gamma', 'xgboost__learning_rate', 'xgboost__max_delta_step', 'xgboost__max_depth', 'xgboost__min_child_weight', 'xgboost__missing', 'xgboost__n_estimators', 'xgboost__n_jobs', 'xgboost__nthread', 'xgboost__objective', 'xgboost__random_state', 'xgboost__reg_alpha', 'xgboost__reg_lambda', 'xgboost__scale_pos_weight', 'xgboost__seed', 'xgboost__silent', 'xgboost__subsample'])"
      ]
     },
     "execution_count": 170,
     "metadata": {},
     "output_type": "execute_result"
    }
   ],
   "source": [
    "pipeline.get_params().keys()"
   ]
  },
  {
   "cell_type": "code",
   "execution_count": null,
   "metadata": {
    "scrolled": false
   },
   "outputs": [],
   "source": [
    "from sklearn.model_selection import GridSearchCV\n",
    "\n",
    "\n",
    "param_grid = dict(xgboost__n_estimators=[100, 120, 157],\n",
    "                  xgboost__max_depth=[5, 7, 10],\n",
    "                  xgboost__learning_rate=[0.01, 0.1, 0.06])\n",
    "\n",
    "grid_search = GridSearchCV(pipeline, param_grid=param_grid, verbose=10)\n",
    "grid_search.fit(dataset, target)\n",
    "print(grid_search.best_estimator_)"
   ]
  },
  {
   "cell_type": "code",
   "execution_count": 172,
   "metadata": {},
   "outputs": [],
   "source": [
    "a3 = grid_search.predict(test)"
   ]
  },
  {
   "cell_type": "markdown",
   "metadata": {},
   "source": [
    "## Adjust for submitting to Kaggle"
   ]
  },
  {
   "cell_type": "code",
   "execution_count": 173,
   "metadata": {},
   "outputs": [],
   "source": [
    "preds = pd.DataFrame(a3)\n",
    "result = pd.read_csv('/Users/user/Desktop/all/sample_submission.csv')\n",
    "result['price_doc'] = preds\n",
    "\n",
    "result.to_csv('submission3.csv', index=False)"
   ]
  },
  {
   "cell_type": "code",
   "execution_count": 175,
   "metadata": {},
   "outputs": [
    {
     "data": {
      "text/plain": [
       "0.2109431742966435"
      ]
     },
     "execution_count": 175,
     "metadata": {},
     "output_type": "execute_result"
    }
   ],
   "source": [
    "metrics.mean_squared_log_error(grid_search.predict(train.drop(['price_doc'],axis=1)), train['price_doc'])"
   ]
  },
  {
   "cell_type": "code",
   "execution_count": null,
   "metadata": {},
   "outputs": [],
   "source": []
  }
 ],
 "metadata": {
  "kernelspec": {
   "display_name": "Python 3",
   "language": "python",
   "name": "python3"
  },
  "language_info": {
   "codemirror_mode": {
    "name": "ipython",
    "version": 3
   },
   "file_extension": ".py",
   "mimetype": "text/x-python",
   "name": "python",
   "nbconvert_exporter": "python",
   "pygments_lexer": "ipython3",
   "version": "3.6.5"
  }
 },
 "nbformat": 4,
 "nbformat_minor": 2
}
